{
 "cells": [
  {
   "cell_type": "markdown",
   "metadata": {},
   "source": [
    "## Matplotlib\n",
    "用了好几年的Matlotlib，一直没有系统的学习一下，每次用的时候都去查文档，希望这次能系统的梳理一下，查漏补缺。\n",
    "\n",
    "### 1.Matplotlib基础\n",
    "#### 1.1 Figure\n",
    "Matplotlib的图像是画在figure（如windows，jupyter窗体）上的，每一个figure又包含了一个或多个axes（一个可以指定坐标系的子区域）。  \n",
    "一个完整的matplotlib图像通常会包括以下四个层级，这些层级也被称为容器（container）。在matplotlib的世界中，我们将通过各种命令方法来操纵图像中的每一个部分，从而达到数据可视化的最终效果，一副完整的图像实际上是各类子元素的集合。\n",
    "\n",
    "- `Figure`：顶层级，用来容纳所有绘图元素 \n",
    "\n",
    "- `Axes`：matplotlib宇宙的核心，容纳了大量元素用来构造一幅幅子图，一个figure可以由一个或多个子图组成\n",
    "\n",
    "- `Axis`：axes的下属层级，用于处理所有和坐标轴，网格有关的元素\n",
    "\n",
    "- `Tick`：axis的下属层级，用来处理所有和刻度有关的元素\n",
    "\n",
    "  ![](https://matplotlib.org/_images/anatomy.png)\n",
    "  \n",
    "#### 1.2 绘图接口\n",
    "matplotlib提供了两种最常用的绘图接口\n",
    "\n",
    "显式创建figure和axes，在上面调用绘图方法，也被称为OO模式（object-oriented style)，即通过pyplot.subplots创建figure和axes；\n",
    "\n",
    "依赖pyplot自动创建figure和axes，并绘图"
   ]
  },
  {
   "cell_type": "markdown",
   "metadata": {},
   "source": [
    "### 2.动态图 \n",
    "通过Matplotlib还可以绘制动态图，之前一直不知道。采用动态图可以更好地观察Loss的收敛情况，希望以后能用起来。  \n",
    "Matplotlib中绘制动图一般有两种方式。  \n",
    "第一种方法就是采用matplotlib中的一种交互方式，这样我们就能保证在plt.show()的时候进程不会挂起，所以达到绘制图画的时候能够连续起来。但是这种方法绘制的动图无法保存。\n",
    "用Matplotlib做动图也是这个原理用一定数量的静图在一定的时间内播放就能做出动图，原理就是：画图-->清理-->画图。  \n",
    "在Matplotlib中画图有两种显示模式：\n",
    "- 阻塞模式，即必须利用plt.show()显示图片，且图片关闭之前代码将阻塞在该行。\n",
    "- 交互模式，即plt.plot()后立马显示图片，且不阻塞代码的继续运行。  \n",
    "\n",
    "Matplotlib中默认是使用阻塞模式。这里用到的matplotlib中的几个函数：\n",
    "\n",
    "- plt.ion()：打开交互模式\n",
    "- plt.ioff()：关闭交互模式\n",
    "- plt.clf()：清除当前的Figure对象\n",
    "- plt.cla()：清除当前的Axes对象\n",
    "- plt.pause()：暂停功能\n",
    "\n",
    "不知道为什么我的jupyter上是一张一张单独的，但是在pycharm中可以展示，但pycharm中需要设置一下。\n",
    "打开File | Settings | Tools | Python ScientificScientific,将show plots in tool wiondows前的√取消。"
   ]
  },
  {
   "cell_type": "code",
   "execution_count": 1,
   "metadata": {},
   "outputs": [],
   "source": [
    "def draw_animation():\n",
    "    x = list(range(1, 21))  # epoch array\n",
    "    loss = [2 / (i**2) for i in x]  # loss values array\n",
    "    plt.ion()\n",
    "    for i in range(1, len(x)):\n",
    "        ix = x[:i]\n",
    "        iy = loss[:i]\n",
    "        plt.cla() # 清除当前的Axes对象\n",
    "        plt.title(\"loss\")\n",
    "        plt.plot(ix, iy)\n",
    "        plt.xlabel(\"epoch\")\n",
    "        plt.ylabel(\"loss\")\n",
    "        plt.pause(0.2)\n",
    "    plt.ioff() # 关闭交互模式\n",
    "    plt.show()"
   ]
  },
  {
   "cell_type": "markdown",
   "metadata": {},
   "source": [
    "第二种方法是采用matplotlib.animation函数,  \n",
    "代码如下for循环主要是把你要画的内容存起来，存到ims中，然后使用animation在fig中华ims，其中interval是间隔,单位是ms"
   ]
  },
  {
   "cell_type": "code",
   "execution_count": 2,
   "metadata": {},
   "outputs": [],
   "source": [
    "def draw_animation():\n",
    "    print(\"************\")\n",
    "    x = list(range(1, 20))\n",
    "    loss = [2 / (i ** 2) for i in x]\n",
    "    ims = []\n",
    "    fig = plt.figure()\n",
    "    for i in range(1,len(x)):\n",
    "        ix = x[:i]\n",
    "        iy = loss[:i]\n",
    "        im = plt.plot(ix,iy)\n",
    "        ims.append(im)\n",
    "    ani = animation.ArtistAnimation(fig, ims, interval=200, repeat_delay=1000)\n",
    "    ani.save(\"./img/test_animation.gif\", writer='pillow')\n",
    "    plt.show()"
   ]
  },
  {
   "cell_type": "markdown",
   "metadata": {},
   "source": [
    "代码地址："
   ]
  }
 ],
 "metadata": {
  "kernelspec": {
   "display_name": "Python 3",
   "language": "python",
   "name": "python3"
  },
  "language_info": {
   "codemirror_mode": {
    "name": "ipython",
    "version": 3
   },
   "file_extension": ".py",
   "mimetype": "text/x-python",
   "name": "python",
   "nbconvert_exporter": "python",
   "pygments_lexer": "ipython3",
   "version": "3.6.10"
  }
 },
 "nbformat": 4,
 "nbformat_minor": 4
}
