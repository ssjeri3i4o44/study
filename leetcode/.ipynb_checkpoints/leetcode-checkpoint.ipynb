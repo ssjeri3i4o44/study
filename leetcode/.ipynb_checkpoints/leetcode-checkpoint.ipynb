{
 "cells": [
  {
   "cell_type": "markdown",
   "metadata": {},
   "source": [
    "## 002 两数相加\n",
    "给出两个 <b>非空</b> 的链表用来表示两个非负的整数。其中，它们各自的位数是按照 <b>逆序</b> 的方式存储的，并且它们的每个节点只能存储 <b>一位</b> 数字。\n",
    "\n",
    "如果，我们将这两个数相加起来，则会返回一个新的链表来表示它们的和。\n",
    "\n",
    "您可以假设除了数字 0 之外，这两个数都不会以 0 开头。"
   ]
  },
  {
   "cell_type": "code",
   "execution_count": 51,
   "metadata": {},
   "outputs": [],
   "source": [
    "class ListNode:\n",
    "    def __init__(self, x):\n",
    "        self.val = x\n",
    "        self.next = None\n",
    "\n",
    "class Solution:\n",
    "    def addTwoNumbers(self, l1: ListNode, l2: ListNode) -> ListNode:\n",
    "                l3 = ListNode()\n",
    "                flag = False\n",
    "                head = l3\n",
    "                while l1 and l2:\n",
    "                    t = l1.val+l2.val+flag\n",
    "                    flag = False\n",
    "\n",
    "                    if t>=10:\n",
    "                        t = t-10\n",
    "                        flag = True\n",
    "                    l3.next = ListNode(t)\n",
    "                    l3 = l3.next\n",
    "                    l1 = l1.next\n",
    "                    l2 = l2.next\n",
    "                remain = l1 if l1 else l2\n",
    "\n",
    "                while remain:\n",
    "                    t = remain.val+flag\n",
    "                    flag = False\n",
    "\n",
    "                    if t>=10:\n",
    "                        t = t-10\n",
    "                        flag = True\n",
    "                    l3.next = ListNode(t)\n",
    "                    l3 = l3.next\n",
    "                    remain = remain.next\n",
    "\n",
    "                if flag:\n",
    "                    l3.next = ListNode(1)\n",
    "\n",
    "                return head.next"
   ]
  },
  {
   "cell_type": "markdown",
   "metadata": {},
   "source": [
    "## 004 寻找两个正序数组的中位数\n",
    "给定两个大小为 m 和 n 的有序数组 nums1 和 nums2。\n",
    "\n",
    "请你找出这两个有序数组的中位数，并且要求算法的时间复杂度为 O(log(m + n))。\n",
    "\n",
    "你可以假设 nums1 和 nums2 不会同时为空。"
   ]
  },
  {
   "cell_type": "code",
   "execution_count": 52,
   "metadata": {},
   "outputs": [],
   "source": [
    "class Solution():\n",
    "    def findMedianSortedArrays(self, nums1, nums2):\n",
    "        import math\n",
    "        a = len(nums1)\n",
    "        b = len(nums2)\n",
    "        nums1.extend(nums2)\n",
    "        nums1.sort()\n",
    "        length = a+b\n",
    "        \n",
    "        if length%2==0:\n",
    "            median_num = (nums1[math.ceil(length/2)]+nums1[math.ceil(length/2)-1])/2\n",
    "        else:\n",
    "            median_num = nums1[math.ceil(length/2)-1]\n",
    "        return median_num"
   ]
  },
  {
   "cell_type": "code",
   "execution_count": 53,
   "metadata": {},
   "outputs": [
    {
     "data": {
      "text/plain": [
       "3"
      ]
     },
     "execution_count": 53,
     "metadata": {},
     "output_type": "execute_result"
    }
   ],
   "source": [
    "num1 = [1,2,3]\n",
    "num2 = [4,5]\n",
    "a = Solution()\n",
    "median_num = a.findMedianSortedArrays(num1, num2)\n",
    "median_num"
   ]
  },
  {
   "cell_type": "markdown",
   "metadata": {},
   "source": [
    "## 最大回文数\n",
    "给定一个字符串 s，找到 s 中最长的回文子串。你可以假设 s 的最大长度为 1000。"
   ]
  },
  {
   "cell_type": "code",
   "execution_count": 56,
   "metadata": {},
   "outputs": [],
   "source": [
    "class Solution:\n",
    "    def longestPalindrome(self, s: str) -> str:\n",
    "        count = len(s)\n",
    "        if count == 0 or count == 1:\n",
    "            return s\n",
    "        longestPalindromelen = 1\n",
    "        longestPalindromeStr = s[0:1]\n",
    "        dp = [[False] * count for i in range(count)]\n",
    "        for r in range(1, count):\n",
    "            for l in range(0, r):\n",
    "                if s[r] == s[l] and (r - l <= 2 or dp[l + 1][r - 1] == True):\n",
    "                    dp[l][r] = True\n",
    "                    if longestPalindromelen < r - l + 1:\n",
    "                        longestPalindromelen = r - l + 1\n",
    "                        longestPalindromeStr = s[l:l + longestPalindromelen]\n",
    "        return longestPalindromeStr"
   ]
  },
  {
   "cell_type": "code",
   "execution_count": 60,
   "metadata": {},
   "outputs": [
    {
     "data": {
      "text/plain": [
       "'scs'"
      ]
     },
     "execution_count": 60,
     "metadata": {},
     "output_type": "execute_result"
    }
   ],
   "source": [
    "s = 'ascsfsdvdxwewfs'\n",
    "a = Solution()\n",
    "longestPalindromeStr = a.longestPalindrome(s)\n",
    "longestPalindromeStr"
   ]
  },
  {
   "cell_type": "code",
   "execution_count": null,
   "metadata": {},
   "outputs": [],
   "source": []
  }
 ],
 "metadata": {
  "kernelspec": {
   "display_name": "Python 3",
   "language": "python",
   "name": "python3"
  },
  "language_info": {
   "codemirror_mode": {
    "name": "ipython",
    "version": 3
   },
   "file_extension": ".py",
   "mimetype": "text/x-python",
   "name": "python",
   "nbconvert_exporter": "python",
   "pygments_lexer": "ipython3",
   "version": "3.8.3"
  }
 },
 "nbformat": 4,
 "nbformat_minor": 4
}
