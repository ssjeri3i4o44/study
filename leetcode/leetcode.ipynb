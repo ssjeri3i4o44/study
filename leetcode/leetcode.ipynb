{
 "cells": [
  {
   "cell_type": "markdown",
   "metadata": {},
   "source": [
    "## 002 两数相加\n",
    "给出两个 <b>非空</b> 的链表用来表示两个非负的整数。其中，它们各自的位数是按照 <b>逆序</b> 的方式存储的，并且它们的每个节点只能存储 <b>一位</b> 数字。\n",
    "\n",
    "如果，我们将这两个数相加起来，则会返回一个新的链表来表示它们的和。\n",
    "\n",
    "您可以假设除了数字 0 之外，这两个数都不会以 0 开头。"
   ]
  },
  {
   "cell_type": "code",
   "execution_count": 1,
   "metadata": {},
   "outputs": [],
   "source": [
    "class ListNode:\n",
    "    def __init__(self, x):\n",
    "        self.val = x\n",
    "        self.next = None\n",
    "\n",
    "class Solution:\n",
    "    def addTwoNumbers(self, l1: ListNode, l2: ListNode) -> ListNode:\n",
    "                l3 = ListNode()\n",
    "                flag = False\n",
    "                head = l3\n",
    "                while l1 and l2:\n",
    "                    t = l1.val+l2.val+flag\n",
    "                    flag = False\n",
    "\n",
    "                    if t>=10:\n",
    "                        t = t-10\n",
    "                        flag = True\n",
    "                    l3.next = ListNode(t)\n",
    "                    l3 = l3.next\n",
    "                    l1 = l1.next\n",
    "                    l2 = l2.next\n",
    "                remain = l1 if l1 else l2\n",
    "\n",
    "                while remain:\n",
    "                    t = remain.val+flag\n",
    "                    flag = False\n",
    "\n",
    "                    if t>=10:\n",
    "                        t = t-10\n",
    "                        flag = True\n",
    "                    l3.next = ListNode(t)\n",
    "                    l3 = l3.next\n",
    "                    remain = remain.next\n",
    "\n",
    "                if flag:\n",
    "                    l3.next = ListNode(1)\n",
    "\n",
    "                return head.next"
   ]
  },
  {
   "cell_type": "markdown",
   "metadata": {},
   "source": [
    "## 004 寻找两个正序数组的中位数\n",
    "给定两个大小为 m 和 n 的有序数组 nums1 和 nums2。\n",
    "\n",
    "请你找出这两个有序数组的中位数，并且要求算法的时间复杂度为 O(log(m + n))。\n",
    "\n",
    "你可以假设 nums1 和 nums2 不会同时为空。"
   ]
  },
  {
   "cell_type": "code",
   "execution_count": 2,
   "metadata": {},
   "outputs": [],
   "source": [
    "class Solution():\n",
    "    def findMedianSortedArrays(self, nums1, nums2):\n",
    "        import math\n",
    "        a = len(nums1)\n",
    "        b = len(nums2)\n",
    "        nums1.extend(nums2)\n",
    "        nums1.sort()\n",
    "        length = a+b\n",
    "        \n",
    "        if length%2==0:\n",
    "            median_num = (nums1[math.ceil(length/2)]+nums1[math.ceil(length/2)-1])/2\n",
    "        else:\n",
    "            median_num = nums1[math.ceil(length/2)-1]\n",
    "        return median_num"
   ]
  },
  {
   "cell_type": "code",
   "execution_count": 3,
   "metadata": {},
   "outputs": [
    {
     "data": {
      "text/plain": [
       "3"
      ]
     },
     "execution_count": 3,
     "metadata": {},
     "output_type": "execute_result"
    }
   ],
   "source": [
    "num1 = [1,2,3]\n",
    "num2 = [4,5]\n",
    "a = Solution()\n",
    "median_num = a.findMedianSortedArrays(num1, num2)\n",
    "median_num"
   ]
  },
  {
   "cell_type": "markdown",
   "metadata": {},
   "source": [
    "## 005.最大回文数\n",
    "给定一个字符串 s，找到 s 中最长的回文子串。你可以假设 s 的最大长度为 1000。"
   ]
  },
  {
   "cell_type": "code",
   "execution_count": 4,
   "metadata": {},
   "outputs": [],
   "source": [
    "class Solution:\n",
    "    def longestPalindrome(self, s: str) -> str:\n",
    "        count = len(s)\n",
    "        if count == 0 or count == 1:\n",
    "            return s\n",
    "        longestPalindromelen = 1\n",
    "        longestPalindromeStr = s[0:1]\n",
    "        dp = [[False] * count for i in range(count)]\n",
    "        for r in range(1, count):\n",
    "            for l in range(0, r):\n",
    "                if s[r] == s[l] and (r - l <= 2 or dp[l + 1][r - 1] == True):\n",
    "                    dp[l][r] = True\n",
    "                    if longestPalindromelen < r - l + 1:\n",
    "                        longestPalindromelen = r - l + 1\n",
    "                        longestPalindromeStr = s[l:l + longestPalindromelen]\n",
    "        return longestPalindromeStr"
   ]
  },
  {
   "cell_type": "code",
   "execution_count": 5,
   "metadata": {},
   "outputs": [
    {
     "data": {
      "text/plain": [
       "'scs'"
      ]
     },
     "execution_count": 5,
     "metadata": {},
     "output_type": "execute_result"
    }
   ],
   "source": [
    "s = 'ascsfsdvdxwewfs'\n",
    "a = Solution()\n",
    "longestPalindromeStr = a.longestPalindrome(s)\n",
    "longestPalindromeStr"
   ]
  },
  {
   "cell_type": "markdown",
   "metadata": {},
   "source": [
    "### 007.整数翻转\n",
    "给出一个 32 位的有符号整数，你需要将这个整数中每位上的数字进行反转。     \n",
    "需要考虑三种情况：     \n",
    "（1）给的整数是负整数；     \n",
    "（2）给的整数的最后一位数字是0；        \n",
    "（3）反转后的结果是否溢出。  "
   ]
  },
  {
   "cell_type": "code",
   "execution_count": 6,
   "metadata": {},
   "outputs": [],
   "source": [
    "class Solution:\n",
    "    def reverse(self, x: int) -> int:\n",
    "        temp = int((str(x) if x>0 else str(-x)+'-')[::-1])\n",
    "        return temp if (-2**31-1)<temp<(2**31) else 0"
   ]
  },
  {
   "cell_type": "code",
   "execution_count": 7,
   "metadata": {},
   "outputs": [
    {
     "data": {
      "text/plain": [
       "-3212"
      ]
     },
     "execution_count": 7,
     "metadata": {},
     "output_type": "execute_result"
    }
   ],
   "source": [
    "num = -21230\n",
    "a = Solution()\n",
    "rev = a.reverse(num)\n",
    "rev"
   ]
  },
  {
   "cell_type": "markdown",
   "metadata": {},
   "source": [
    "## 008.字符串转化成整数\n",
    "请你来实现一个 `atoi` 函数，使其能将字符串转换成整数。\n",
    "\n",
    "首先，该函数会根据需要丢弃无用的开头空格字符，直到寻找到第一个非空格的字符为止。\n",
    "\n",
    "当我们寻找到的第一个非空字符为正或者负号时，则将该符号与之后面尽可能多的连续数字组合起来，作为该整数的正负号；假如第一个非空字符是数字，则直接将其与之后连续的数字字符组合起来，形成整数。\n",
    "\n",
    "该字符串除了有效的整数部分之后也可能会存在多余的字符，这些字符可以被忽略，它们对于函数不应该造成影响。\n",
    "\n",
    "注意：假如该字符串中的第一个非空格字符不是一个有效整数字符、字符串为空或字符串仅包含空白字符时，则你的函数不需要进行转换。\n",
    "\n",
    "在任何情况下，若函数不能进行有效的转换时，请返回 0。\n",
    "\n",
    "<b>说明</b>：\n",
    "\n",
    "假设我们的环境只能存储 32 位大小的有符号整数，那么其数值范围为 `[−2^31, 2^31− 1]`。如果数值超过这个范围，请返回 `INT_MAX (2^31− 1)` 或 `INT_MIN (−2^31)` 。\n"
   ]
  },
  {
   "cell_type": "code",
   "execution_count": 8,
   "metadata": {},
   "outputs": [],
   "source": [
    "class Solution:\n",
    "    def myAtoi(self, s: str) -> int:\n",
    "        import re\n",
    "        return max(min(int(*re.findall('^[\\+\\-]?\\d+', s.lstrip())), 2**31 - 1), -2**31)"
   ]
  },
  {
   "cell_type": "code",
   "execution_count": 9,
   "metadata": {},
   "outputs": [
    {
     "data": {
      "text/plain": [
       "-1234"
      ]
     },
     "execution_count": 9,
     "metadata": {},
     "output_type": "execute_result"
    }
   ],
   "source": [
    "s = ' -1234'\n",
    "a = Solution()\n",
    "str2int = a.myAtoi(s)\n",
    "str2int"
   ]
  },
  {
   "cell_type": "markdown",
   "metadata": {},
   "source": [
    "## 009.回文数\n",
    "判断一个整数是否是回文数。回文数是指正序（从左向右）和倒序（从右向左）读都是一样的整数"
   ]
  },
  {
   "cell_type": "code",
   "execution_count": 10,
   "metadata": {},
   "outputs": [],
   "source": [
    "class Solution:\n",
    "    def isPalindrome(self, x: int) -> bool:\n",
    "        Palindrome = False\n",
    "        alist = list(str(x))\n",
    "        if alist==alist[::-1]:\n",
    "            Palindrome = True\n",
    "        return Palindrome"
   ]
  },
  {
   "cell_type": "code",
   "execution_count": 11,
   "metadata": {},
   "outputs": [
    {
     "data": {
      "text/plain": [
       "False"
      ]
     },
     "execution_count": 11,
     "metadata": {},
     "output_type": "execute_result"
    }
   ],
   "source": [
    "x = 123210\n",
    "a = Solution()\n",
    "isPal = a.isPalindrome(x)\n",
    "isPal"
   ]
  },
  {
   "cell_type": "markdown",
   "metadata": {},
   "source": [
    "## 011.盛最多水的容器\n",
    "给定 n 个非负整数 a1，a2，...，an，每个数代表坐标中的一个点 (i, ai) 。在坐标内画 n 条垂直线，垂直线 i 的两个端点分别为 (i, ai) 和 (i, 0)。找出其中的两条线，使得它们与 x 轴共同构成的容器可以容纳最多的水。\n",
    "\n",
    "<b>说明</b>：你不能倾斜容器，且 n 的值至少为 2"
   ]
  },
  {
   "cell_type": "code",
   "execution_count": null,
   "metadata": {},
   "outputs": [],
   "source": [
    "class Solution:\n",
    "    def maxArea(self, height: List[int]) -> int:\n",
    "        l=0\n",
    "        r = len(height)-1\n",
    "        res = []\n",
    "        while l<r:\n",
    "            res.append(min(height[l],height[r])*(r-l))\n",
    "            if height[l]<=height[r]:\n",
    "                l+=1\n",
    "            else:\n",
    "                r-=1\n",
    "        return max(res)"
   ]
  },
  {
   "cell_type": "markdown",
   "metadata": {},
   "source": [
    "## 014.最长公共前缀\n",
    "编写一个函数来查找字符串数组中的最长公共前缀。\n",
    "\n",
    "如果不存在公共前缀，返回空字符串 \"\"。"
   ]
  },
  {
   "cell_type": "code",
   "execution_count": null,
   "metadata": {
    "scrolled": true
   },
   "outputs": [],
   "source": [
    "class Solution:\n",
    "    def longestCommonPrefix(self,strs:List[str])->str:\n",
    "        ans=''\n",
    "        for i in  zip(*strs):\n",
    "            if len(set(i))==1:\n",
    "                ans += i[0]\n",
    "            else:\n",
    "                break\n",
    "        return ans"
   ]
  },
  {
   "cell_type": "markdown",
   "metadata": {},
   "source": [
    "## 015.三数之和\n",
    "给定一个包含`n`个整数的数组`nums`，判断`nums`中是否存在三个元素`a，b，c`，使得`a + b + c = 0`？找出所有满足条件且不重复的三元组。\n",
    "\n",
    "注意：答案中不可以包含重复的三元组。"
   ]
  },
  {
   "cell_type": "code",
   "execution_count": null,
   "metadata": {},
   "outputs": [],
   "source": [
    "class Solution:\n",
    "    def threeSum(self,nums:List[int])->List[List[int]]:\n",
    "        if not nums or len(nums)<=2:\n",
    "            return[]\n",
    "        nums.sort()\n",
    "        res=set()\n",
    "        for k in range(len(nums)-2):\n",
    "            if nums[k]>0:break\n",
    "            if k > 0 and nums[k] == nums[k-1]: continue\n",
    "            i,j=k+1,len(nums)-1\n",
    "            while i<j:\n",
    "                sum=nums[i]+nums[j]+nums[k]\n",
    "                if sum<0:i+=1\n",
    "                elif sum>0: j-=1\n",
    "                else:\n",
    "                    res.add((nums[i],nums[j],nums[k]))\n",
    "                    i+=1\n",
    "                    j-=1\n",
    "            return list(res)"
   ]
  },
  {
   "cell_type": "markdown",
   "metadata": {},
   "source": [
    "## 016.最近三数之和\n",
    "给定一个包括`n`个整数的数组`nums`和一个目标值`target`。找出`nums`中的三个整数，使得它们的和与`target`最接近。返回这三个数的和。假定每组输入只存在唯一答案。"
   ]
  },
  {
   "cell_type": "code",
   "execution_count": 88,
   "metadata": {},
   "outputs": [],
   "source": [
    "class Solution:\n",
    "    def threeSumClosest(self, nums, target) -> int:\n",
    "        n = len(nums)\n",
    "        nums.sort()\n",
    "        sum_list = []\n",
    "        for i in range(n):\n",
    "            L = i + 1\n",
    "            R = n - 1\n",
    "            while L < R:\n",
    "                sum = nums[i] + nums[L] + nums[R]\n",
    "                sum_list.append(sum)\n",
    "                if sum < target:\n",
    "                    L += 1\n",
    "                elif sum > target:\n",
    "                    R -= 1\n",
    "                else:\n",
    "                    return sum\n",
    "        sum_list.sort()\n",
    "        res = abs(target - sum_list[-1])\n",
    "        res_num = sum_list[-1]\n",
    "        for num in sum_list:\n",
    "            if abs(target - num) < res:\n",
    "                res_num = num\n",
    "                res = abs(target - num)\n",
    "        return res_num"
   ]
  },
  {
   "cell_type": "code",
   "execution_count": 91,
   "metadata": {},
   "outputs": [
    {
     "data": {
      "text/plain": [
       "2"
      ]
     },
     "execution_count": 91,
     "metadata": {},
     "output_type": "execute_result"
    }
   ],
   "source": [
    "nums = [-1,2,1,-4]\n",
    "target = 1\n",
    "a = Solution()\n",
    "res_num = a.threeSumClosest(nums, target)\n",
    "res_num"
   ]
  },
  {
   "cell_type": "markdown",
   "metadata": {},
   "source": [
    "## 020:有效的括号\n",
    "给定一个只包括 '('，')'，'{'，'}'，'['，']' 的字符串，判断字符串是否有效。\n",
    "\n",
    "有效字符串需满足：\n",
    "\n",
    "- 左括号必须用相同类型的右括号闭合。\n",
    "- 左括号必须以正确的顺序闭合。\n",
    "\n",
    "注意空字符串可被认为是有效字符串。"
   ]
  },
  {
   "cell_type": "code",
   "execution_count": 148,
   "metadata": {
    "scrolled": false
   },
   "outputs": [],
   "source": [
    "class Solution:\n",
    "    def isValid(self,s):\n",
    "        pairs={')':'(',']':'[','}':'{'}\n",
    "        stack=list()\n",
    "        if len(s)%2==0:\n",
    "            for i in s:\n",
    "                if i in pairs:\n",
    "                    if not stack or stack[-1]!=pairs[i]:\n",
    "                        return False\n",
    "                    else:\n",
    "                        stack.pop()\n",
    "                else:\n",
    "                    stack.append(i)\n",
    "            return not stack\n",
    "        else:\n",
    "            return False"
   ]
  },
  {
   "cell_type": "code",
   "execution_count": 150,
   "metadata": {},
   "outputs": [
    {
     "data": {
      "text/plain": [
       "True"
      ]
     },
     "execution_count": 150,
     "metadata": {},
     "output_type": "execute_result"
    }
   ],
   "source": [
    "s = '{}()[]'\n",
    "s1 = '{(){[][}'\n",
    "a = Solution()\n",
    "output = a.isValid(s)\n",
    "output"
   ]
  },
  {
   "cell_type": "markdown",
   "metadata": {},
   "source": [
    "## 021:合并两个有效列表\n",
    "将两个有序链表合并为一个新的有序链表并返回。新链表是通过拼接给定的两个链表的所有节点组成的。 "
   ]
  },
  {
   "cell_type": "code",
   "execution_count": 151,
   "metadata": {},
   "outputs": [],
   "source": [
    "class ListNode:\n",
    "    def __init__(self, val=0, next=None):\n",
    "        self.val = val\n",
    "        self.next = next\n",
    "class Solution:\n",
    "    def mergeTwoLists(self, l1: ListNode, l2: ListNode):\n",
    "        new=ListNode(-1)\n",
    "        start=new\n",
    "        while l1 and l2:\n",
    "            if l1.val>l2.val:\n",
    "                new.next=l2\n",
    "                new=new.next\n",
    "                l2=l2.next\n",
    "            else:\n",
    "                new.next=l1\n",
    "                new=new.next\n",
    "                l1=l1.next\n",
    "        if l1:\n",
    "            new.next=l1\n",
    "        else:\n",
    "            new.next=l2\n",
    "        return start.next"
   ]
  },
  {
   "cell_type": "code",
   "execution_count": 152,
   "metadata": {},
   "outputs": [],
   "source": [
    "l3 = ListNode(4)\n",
    "l2 = ListNode(2, l3)\n",
    "l1 = ListNode(1, l2)\n",
    "\n",
    "s3 = ListNode(4)\n",
    "s2 = ListNode(2, s3)\n",
    "s1 = ListNode(1, s2)"
   ]
  },
  {
   "cell_type": "code",
   "execution_count": 153,
   "metadata": {},
   "outputs": [
    {
     "data": {
      "text/plain": [
       "<__main__.ListNode at 0x27abd27fee0>"
      ]
     },
     "execution_count": 153,
     "metadata": {},
     "output_type": "execute_result"
    }
   ],
   "source": [
    "a = Solution()\n",
    "temp = a.mergeTwoLists(l1, s1)\n",
    "temp"
   ]
  },
  {
   "cell_type": "code",
   "execution_count": 156,
   "metadata": {},
   "outputs": [
    {
     "data": {
      "text/plain": [
       "(1, 1, 2, 2)"
      ]
     },
     "execution_count": 156,
     "metadata": {},
     "output_type": "execute_result"
    }
   ],
   "source": [
    "temp.val, temp.next.val, temp.next.next.val, temp.next.next.next.val"
   ]
  },
  {
   "cell_type": "code",
   "execution_count": 122,
   "metadata": {},
   "outputs": [
    {
     "data": {
      "text/plain": [
       "([1, 2, 3], 1)"
      ]
     },
     "execution_count": 122,
     "metadata": {},
     "output_type": "execute_result"
    }
   ],
   "source": [
    "temp.val, temp.next"
   ]
  },
  {
   "cell_type": "code",
   "execution_count": null,
   "metadata": {},
   "outputs": [],
   "source": []
  }
 ],
 "metadata": {
  "kernelspec": {
   "display_name": "Python 3",
   "language": "python",
   "name": "python3"
  },
  "language_info": {
   "codemirror_mode": {
    "name": "ipython",
    "version": 3
   },
   "file_extension": ".py",
   "mimetype": "text/x-python",
   "name": "python",
   "nbconvert_exporter": "python",
   "pygments_lexer": "ipython3",
   "version": "3.8.3"
  }
 },
 "nbformat": 4,
 "nbformat_minor": 4
}
