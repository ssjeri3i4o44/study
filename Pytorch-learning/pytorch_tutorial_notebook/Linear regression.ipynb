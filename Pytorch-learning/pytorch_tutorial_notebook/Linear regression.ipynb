{
 "cells": [
  {
   "cell_type": "code",
   "execution_count": 1,
   "metadata": {},
   "outputs": [],
   "source": [
    "import torch\n",
    "import torchvision\n",
    "import numpy as np\n",
    "import matplotlib.pyplot as plt\n",
    "import pandas as pd"
   ]
  },
  {
   "cell_type": "markdown",
   "metadata": {},
   "source": [
    "<p style=\"text-indent:2em\">学习了基本的pytorch操作之后，开始学习使用pytorch来进行模型的训练和保存，从最基础的Linear regression到后面的模型，我会一步步学习，然后把自己学习的经历放上来。</p>\n",
    "首先，整一个流程。\n",
    "\n",
    "- 读取和处理数据，本例使用numpy生成数据进行一个模拟的数据集\n",
    "- 创建模型，包括Loss函数，优化算法，等\n",
    "+ 训练\n",
    "+ 结果可视化和模型保存"
   ]
  },
  {
   "cell_type": "code",
   "execution_count": 2,
   "metadata": {},
   "outputs": [
    {
     "name": "stdout",
     "output_type": "stream",
     "text": [
      "Epoch 0/2000, loss: 0.9653\n",
      "Epoch 200/2000, loss: 0.2601\n",
      "Epoch 400/2000, loss: 0.1740\n",
      "Epoch 600/2000, loss: 0.1690\n",
      "Epoch 800/2000, loss: 0.1690\n",
      "Epoch 1000/2000, loss: 0.1689\n",
      "Epoch 1200/2000, loss: 0.1689\n",
      "Epoch 1400/2000, loss: 0.1689\n",
      "Epoch 1600/2000, loss: 0.1689\n",
      "Epoch 1800/2000, loss: 0.1689\n"
     ]
    },
    {
     "data": {
      "image/png": "[encoded data removed]",
      "text/plain": [
       "<Figure size 432x288 with 1 Axes>"
      ]
     },
     "metadata": {
      "needs_background": "light"
     },
     "output_type": "display_data"
    }
   ],
   "source": [
    "#toy dataset\n",
    "# x = np.linspace(0,10,20,dtype=np.double)\n",
    "# y = np.linspace(4,20,20,dtype=np.double)\n",
    "\n",
    "x = np.array([[3.3], [4.4], [5.5], [6.71], [6.93], [4.168], \n",
    "                    [9.779], [6.182], [7.59], [2.167], [7.042], \n",
    "                    [10.791], [5.313], [7.997], [3.1]], dtype=np.float32)\n",
    "\n",
    "y = np.array([[1.7], [2.76], [2.09], [3.19], [1.694], [1.573], \n",
    "                    [3.366], [2.596], [2.53], [1.221], [2.827], \n",
    "                    [3.465], [1.65], [2.904], [1.3]], dtype=np.float32)\n",
    "#define model\n",
    "model = torch.nn.Linear(1,1)\n",
    "\n",
    "#define loss and optim\n",
    "optimizer = torch.optim.SGD(params=model.parameters(),lr=0.001,momentum=0.99)\n",
    "criterion = torch.nn.MSELoss()\n",
    "\n",
    "#train the model\n",
    "for epoch in range(2000):\n",
    "    #convert numpy to tensor\n",
    "    inputs = torch.from_numpy(x)\n",
    "    outputs = torch.from_numpy(y)\n",
    "    \n",
    "    #forward\n",
    "    pred = model(inputs)\n",
    "    loss = criterion(pred, outputs)\n",
    "    \n",
    "    #backward\n",
    "    optimizer.zero_grad()\n",
    "    loss.backward()\n",
    "    optimizer.step()\n",
    "    \n",
    "    if epoch%200 == 0:\n",
    "        print('Epoch {}/{}, loss: {:.4f}'.format(epoch, 2000, loss.item()))\n",
    "    \n",
    "#plt the graph\n",
    "predicted = model(torch.from_numpy(x)).detach().numpy()\n",
    "plt.plot(x, y, 'ro', label='Input data')\n",
    "plt.plot(x, predicted, label='Fitted line')\n",
    "plt.legend()\n",
    "plt.show()"
   ]
  },
  {
   "cell_type": "code",
   "execution_count": 3,
   "metadata": {},
   "outputs": [],
   "source": [
    "#save model\n",
    "torch.save(model.state_dict(), 'linear_model.ckpt')"
   ]
  },
  {
   "cell_type": "code",
   "execution_count": null,
   "metadata": {},
   "outputs": [],
   "source": []
  }
 ],
 "metadata": {
  "kernelspec": {
   "display_name": "Python 3",
   "language": "python",
   "name": "python3"
  },
  "language_info": {
   "codemirror_mode": {
    "name": "ipython",
    "version": 3
   },
   "file_extension": ".py",
   "mimetype": "text/x-python",
   "name": "python",
   "nbconvert_exporter": "python",
   "pygments_lexer": "ipython3",
   "version": "3.7.0"
  }
 },
 "nbformat": 4,
 "nbformat_minor": 2
}
