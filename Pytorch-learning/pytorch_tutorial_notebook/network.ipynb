{
 "cells": [
  {
   "cell_type": "code",
   "execution_count": 3,
   "metadata": {},
   "outputs": [],
   "source": [
    "import torch\n",
    "import torchvision\n",
    "import numpy as np\n",
    "import pandas as pd"
   ]
  },
  {
   "cell_type": "code",
   "execution_count": 24,
   "metadata": {},
   "outputs": [
    {
     "name": "stdout",
     "output_type": "stream",
     "text": [
      "Epoch: [1/5], step: [0/600], loss: 2.2988\n",
      "Epoch: [1/5], step: [200/600], loss: 0.2442\n",
      "Epoch: [1/5], step: [400/600], loss: 0.2582\n",
      "Epoch: [2/5], step: [0/600], loss: 0.2253\n",
      "Epoch: [2/5], step: [200/600], loss: 0.1845\n",
      "Epoch: [2/5], step: [400/600], loss: 0.1543\n",
      "Epoch: [3/5], step: [0/600], loss: 0.1719\n",
      "Epoch: [3/5], step: [200/600], loss: 0.1357\n",
      "Epoch: [3/5], step: [400/600], loss: 0.0789\n",
      "Epoch: [4/5], step: [0/600], loss: 0.0582\n",
      "Epoch: [4/5], step: [200/600], loss: 0.0892\n",
      "Epoch: [4/5], step: [400/600], loss: 0.1245\n",
      "Epoch: [5/5], step: [0/600], loss: 0.1243\n",
      "Epoch: [5/5], step: [200/600], loss: 0.0339\n",
      "Epoch: [5/5], step: [400/600], loss: 0.0669\n",
      "The accuracy is 98.0%.\n"
     ]
    }
   ],
   "source": [
    "#define hyper-parameters\n",
    "input_size = 784\n",
    "num_classes = 10\n",
    "num_epoch = 5\n",
    "lr = 0.001\n",
    "batch_size = 100\n",
    "hidden_layer = 200\n",
    "\n",
    "#define device\n",
    "device = torch.device('cuda' if torch.cuda.is_available() else 'cpu')\n",
    "\n",
    "#processing data\n",
    "train_data = torchvision.datasets.MNIST(root='E:\\\\code\\\\pytorch\\\\data\\\\MNIST',\n",
    "                                        download=True,train=True,\n",
    "                                        transform=torchvision.transforms.ToTensor())\n",
    "                      \n",
    "test_data = torchvision.datasets.MNIST(root='E:\\\\code\\\\pytorch\\\\data\\\\MNIST',\n",
    "                                       download=False,train=False,\n",
    "                                       transform=torchvision.transforms.ToTensor())\n",
    "                      \n",
    "#downloader dataset\n",
    "train_loader = torch.utils.data.DataLoader(dataset=train_data,batch_size=batch_size,shuffle=True,num_workers=0)\n",
    "test_loader = torch.utils.data.DataLoader(dataset=test_data,batch_size=batch_size,shuffle=False,num_workers=0)\n",
    "                      \n",
    "#define network1\n",
    "class Network(torch.nn.Module):\n",
    "    def __init__(self,input_size,hidden_layer,num_classes):\n",
    "        super(Network,self).__init__()\n",
    "        self.fc1 = torch.nn.Linear(input_size,hidden_layer)\n",
    "        self.relu = torch.nn.ReLU()\n",
    "        self.fc2 = torch.nn.Linear(hidden_layer,num_classes)\n",
    "        #self.softmax = torch.nn.Softmax()\n",
    "                      \n",
    "    def forward(self, x):\n",
    "        out = self.fc1(x)\n",
    "        out = self.relu(out)\n",
    "        out = self.fc2(out)\n",
    "        #out = self.softmax(out)                     \n",
    "        return out\n",
    "        #增加不增加softmax没什么区别，不知道是自己加错了， 还是还是最多只能达到这些了。         \n",
    "                      \n",
    "model = Network(input_size,hidden_layer,num_classes).to(device)\n",
    "                      \n",
    "#loss and optimizer\n",
    "criterion = torch.nn.CrossEntropyLoss()\n",
    "optimizer = torch.optim.Adam(model.parameters(),lr=lr)\n",
    "                      \n",
    "#define training\n",
    "total_step = len(train_loader)\n",
    "for epoch in range(num_epoch):\n",
    "    for i, (images,labels) in enumerate(train_loader):\n",
    "        images = images.reshape(-1, 28*28)\n",
    "                    \n",
    "        #forward pass\n",
    "        outputs = model(images)\n",
    "        loss = criterion(outputs,labels)\n",
    "                \n",
    "        #backward\n",
    "        optimizer.zero_grad()\n",
    "        loss.backward()\n",
    "        optimizer.step()\n",
    "                \n",
    "        if i %200 == 0:\n",
    "            print('Epoch: [{}/{}], step: [{}/{}], loss: {:.4f}'.format(epoch+1,num_epoch,i,total_step,loss.item()))\n",
    "                      \n",
    "                \n",
    "#test model\n",
    "with torch.no_grad():\n",
    "    for i,(images,labels) in enumerate(test_loader):\n",
    "        correct = 0\n",
    "        total = 0\n",
    "        images = images.reshape(-1,28*28)\n",
    "        outputs = model(images)\n",
    "        _, pre = torch.max(outputs.data,1)\n",
    "        #取得分最高的那一类\n",
    "        total += labels.size(0)\n",
    "        correct += (pre == labels).sum().item()\n",
    "    print('The accuracy is {}%.'.format(100*correct/total))"
   ]
  },
  {
   "cell_type": "code",
   "execution_count": null,
   "metadata": {},
   "outputs": [],
   "source": [
    "torch.save(model.state_dict(),'network_model.ckpt')"
   ]
  }
 ],
 "metadata": {
  "kernelspec": {
   "display_name": "Python 3",
   "language": "python",
   "name": "python3"
  },
  "language_info": {
   "codemirror_mode": {
    "name": "ipython",
    "version": 3
   },
   "file_extension": ".py",
   "mimetype": "text/x-python",
   "name": "python",
   "nbconvert_exporter": "python",
   "pygments_lexer": "ipython3",
   "version": "3.7.0"
  }
 },
 "nbformat": 4,
 "nbformat_minor": 2
}
