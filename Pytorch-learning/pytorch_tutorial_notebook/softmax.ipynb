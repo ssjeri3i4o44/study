{
 "cells": [
  {
   "cell_type": "code",
   "execution_count": 1,
   "metadata": {},
   "outputs": [],
   "source": [
    "import torch\n",
    "import torchvision\n",
    "import numpy as np\n",
    "import pandas as pd\n",
    "import matplotlib.pyplot as plt"
   ]
  },
  {
   "cell_type": "code",
   "execution_count": 4,
   "metadata": {},
   "outputs": [
    {
     "name": "stderr",
     "output_type": "stream",
     "text": [
      "C:\\ProgramData\\Anaconda3\\lib\\site-packages\\torch\\nn\\modules\\container.py:91: UserWarning: Implicit dimension choice for softmax has been deprecated. Change the call to include dim=X as an argument.\n",
      "  input = module(input)\n"
     ]
    },
    {
     "name": "stdout",
     "output_type": "stream",
     "text": [
      "Epoch 0/5,step 0/938, loss: 2.2974\n",
      "Epoch 0/5,step 500/938, loss: 1.6549\n",
      "Epoch 1/5,step 0/938, loss: 1.5832\n",
      "Epoch 1/5,step 500/938, loss: 1.6140\n",
      "Epoch 2/5,step 0/938, loss: 1.5527\n",
      "Epoch 2/5,step 500/938, loss: 1.6025\n",
      "Epoch 3/5,step 0/938, loss: 1.5394\n",
      "Epoch 3/5,step 500/938, loss: 1.5957\n",
      "Epoch 4/5,step 0/938, loss: 1.5316\n",
      "Epoch 4/5,step 500/938, loss: 1.5909\n",
      "Accuracy of the model on the 10000 test images: 92 %\n"
     ]
    }
   ],
   "source": [
    "#hyper-parameter\n",
    "input_size = 784\n",
    "num_epoch = 5\n",
    "num_classes = 10\n",
    "batch_size = 64\n",
    "learning_rate = 0.001\n",
    "\n",
    "device = ('cuda' if torch.cuda.is_available() else 'cpu')\n",
    "\n",
    "#download mnist dataset\n",
    "train_dataset = torchvision.datasets.MNIST(root='E:\\\\code\\\\pytorch\\\\data\\\\MNIST',\n",
    "                                          train=True, transform=torchvision.transforms.ToTensor(),download=True)\n",
    "\n",
    "test_dataset = torchvision.datasets.MNIST(root='E:\\\\code\\\\pytorch\\\\data\\\\MIST',\n",
    "                                         train=False,transform=torchvision.transforms.ToTensor())\n",
    "\n",
    "#Dataloader\n",
    "train_loader = torch.utils.data.DataLoader(dataset=train_dataset,shuffle=False,\n",
    "                                           batch_size=batch_size, num_workers=0)\n",
    "test_loader = torch.utils.data.DataLoader(dataset=test_dataset, shuffle=False,\n",
    "                                         batch_size=batch_size, num_workers=0)\n",
    "\n",
    "        \n",
    "model = torch.nn.Sequential(torch.nn.Linear(input_size,num_classes),\n",
    "                           torch.nn.Softmax())\n",
    "\n",
    "#loss and optimizer\n",
    "criterion = torch.nn.CrossEntropyLoss()\n",
    "optim = torch.optim.Adam(model.parameters(),lr=learning_rate)\n",
    "\n",
    "#train and test model\n",
    "total_step = len(train_loader)\n",
    "for epoch in range(num_epoch):\n",
    "    for i, (images, labels) in enumerate(train_loader):\n",
    "        #reshape iamge to (batch_size, input_size)\n",
    "        images = images.reshape(-1, 28*28)\n",
    "        \n",
    "        #forwad pass\n",
    "        outputs = model(images)\n",
    "        loss = criterion(outputs,labels)\n",
    "        \n",
    "        #backward and optimizer\n",
    "        optim.zero_grad()\n",
    "        loss.backward()\n",
    "        optim.step()\n",
    "        \n",
    "        if i % 500 == 0:\n",
    "            print('Epoch {}/{},step {}/{}, loss: {:.4f}'\n",
    "                 .format(epoch,num_epoch,i,total_step,loss.item()))\n",
    "#test model\n",
    "#in this phase ,we do not need to compute gradients\n",
    "with torch.no_grad():\n",
    "    correct = 0\n",
    "    total = 0\n",
    "    for images, labels in test_loader:\n",
    "        images = images.reshape(-1, 28*28)\n",
    "        outputs = model(images)\n",
    "        _, pred = torch.max(outputs.data,1)\n",
    "        total += labels.size(0)\n",
    "        correct += (pred == labels).sum()\n",
    "        \n",
    "    print('Accuracy of the model on the 10000 test images: {} %'.format(100 * correct/total))"
   ]
  },
  {
   "cell_type": "code",
   "execution_count": 5,
   "metadata": {},
   "outputs": [],
   "source": [
    "torch.save(model.state_dict(),'softmax_model.ckpt')"
   ]
  },
  {
   "cell_type": "markdown",
   "metadata": {},
   "source": [
    "在pytorch-tutorial里，其中的LR模型直接使用torch.nn.Linear进行训练，个人没看懂，觉得有点奇怪，并没有通过sigmoid或者softmax进行非线性激活，索引自己的改成了softmax的激活函数，进行分类。\n",
    "\n",
    "还有一个需要注意的是：在pytorch中,torch.nn和torch.nn.functional的区别：\n",
    "\n",
    "torch.nn中是类，而torch.nn.functional是函数，torch.nn中的类是使用函数包装好的\n",
    "\n",
    "换句话说，nn.functional中的函数仅仅定义了一些具体的基本操作，不能构成PyTorch中的一个layer。当你需要自定义一些非标准layer时，可以在其中调用nn.functional中的操作。\n",
    "\n",
    "同时保留这两个的原因是因为，构建网络层的时候使用 类进行构建，看起来足够简洁明了，同时避免了很多的参数定义，但是在做一些简单的操作时，也需要直接构建一个类，太过麻烦，这是就可以使用函数进行简单的操作，而且，当你需要自定义一些网络的层的时候，可以使用函数进行定义。"
   ]
  }
 ],
 "metadata": {
  "kernelspec": {
   "display_name": "Python 3",
   "language": "python",
   "name": "python3"
  },
  "language_info": {
   "codemirror_mode": {
    "name": "ipython",
    "version": 3
   },
   "file_extension": ".py",
   "mimetype": "text/x-python",
   "name": "python",
   "nbconvert_exporter": "python",
   "pygments_lexer": "ipython3",
   "version": "3.7.0"
  }
 },
 "nbformat": 4,
 "nbformat_minor": 2
}
