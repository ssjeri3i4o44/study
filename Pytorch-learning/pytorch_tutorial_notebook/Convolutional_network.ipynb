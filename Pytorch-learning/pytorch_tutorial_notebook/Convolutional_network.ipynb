{
 "cells": [
  {
   "cell_type": "code",
   "execution_count": 17,
   "metadata": {},
   "outputs": [],
   "source": [
    "import torch\n",
    "import torchvision\n",
    "import numpy as np\n",
    "import pandas as pd"
   ]
  },
  {
   "cell_type": "code",
   "execution_count": 20,
   "metadata": {},
   "outputs": [
    {
     "name": "stderr",
     "output_type": "stream",
     "text": [
      "C:\\ProgramData\\Anaconda3\\lib\\site-packages\\ipykernel_launcher.py:52: UserWarning: Implicit dimension choice for softmax has been deprecated. Change the call to include dim=X as an argument.\n"
     ]
    },
    {
     "name": "stdout",
     "output_type": "stream",
     "text": [
      "Epoch:[1/1],step: [300/1875],loss: 1.5837\n",
      "Epoch:[1/1],step: [600/1875],loss: 1.4920\n",
      "Epoch:[1/1],step: [900/1875],loss: 1.5018\n",
      "Epoch:[1/1],step: [1200/1875],loss: 1.4908\n",
      "Epoch:[1/1],step: [1500/1875],loss: 1.5061\n",
      "Epoch:[1/1],step: [1800/1875],loss: 1.4848\n",
      "The test accuracy of the model is 98.27  %\n"
     ]
    }
   ],
   "source": [
    "#define hyper-parameter\n",
    "num_classes = 10\n",
    "lr = 0.001\n",
    "batch_size = 100\n",
    "num_epoch = 1\n",
    "\n",
    "device = torch.device('cuda' if torch.cuda.is_available() else 'cpu')\n",
    "\n",
    "#download MNIST\n",
    "train_data = torchvision.datasets.MNIST(download=True,train=True,\n",
    "                                        root='E:\\\\code\\\\pytorch\\\\data\\\\MNIST',\n",
    "                                        transform=torchvision.transforms.ToTensor())\n",
    "\n",
    "test_data = torchvision.datasets.MNIST(root='E:\\\\code\\\\pytorch\\\\data\\\\MNIST',\n",
    "                                      train=False,download=False,\n",
    "                                       transform=torchvision.transforms.ToTensor())\n",
    "\n",
    "#dataloader\n",
    "train_loader = torch.utils.data.DataLoader(dataset=train_data,batch_size=batch_size,\n",
    "                                           shuffle=True,num_workers=0)\n",
    "\n",
    "test_loader = torch.utils.data.DataLoader(dataset=test_data,batch_size=batch_size,\n",
    "                                         shuffle=False,num_workers=0)\n",
    "\n",
    "#define model\n",
    "class Convnet(torch.nn.Module):\n",
    "    def __init__(self,output_classes):\n",
    "        super(Convnet,self).__init__()\n",
    "        self.conv1 = torch.nn.Sequential(\n",
    "            torch.nn.Conv2d(in_channels=1,out_channels=16,\n",
    "                            kernel_size=3,stride=1,padding=1,bias=True),\n",
    "            torch.nn.BatchNorm2d(16),\n",
    "            torch.nn.ReLU(),\n",
    "            torch.nn.MaxPool2d(kernel_size=3,stride=2,padding=0))\n",
    "            \n",
    "        self.conv2 = torch.nn.Sequential(\n",
    "            torch.nn.Conv2d(in_channels=16,out_channels=32,kernel_size=3,\n",
    "                            stride=1,padding=1,bias=True),\n",
    "            torch.nn.BatchNorm2d(32),\n",
    "            torch.nn.ReLU(),\n",
    "            torch.nn.MaxPool2d(kernel_size=3,stride=2,padding=0))\n",
    "        self.fc = torch.nn.Linear(6*6*32,num_classes)\n",
    "        self.softmax = torch.nn.Softmax()\n",
    "            \n",
    "    #define forward\n",
    "    def forward(self,x):\n",
    "        out = self.conv1(x)\n",
    "        out = self.conv2(out)\n",
    "        out = out.reshape(out.size(0), -1)\n",
    "        #将多维数据平铺成一维的，为了输入到全连接层中\n",
    "        out = self.fc(out)\n",
    "        out = self.softmax(out)\n",
    "        return out\n",
    "\n",
    "model = Convnet(num_classes).to(device)\n",
    "    \n",
    "#define loss and optimizer\n",
    "criterion = torch.nn.CrossEntropyLoss()\n",
    "optimizer = torch.optim.Adam(model.parameters(),lr=lr)\n",
    "\n",
    "#train model\n",
    "total_step = len(train_loader)\n",
    "for epoch in range(num_epoch):\n",
    "    for i, (images, labels) in enumerate(train_loader):\n",
    "        images = images.to(device)\n",
    "        labels = labels.to(device)\n",
    "        \n",
    "        #forward pass\n",
    "        outputs = model(images)\n",
    "        loss = criterion(outputs,labels)\n",
    "        \n",
    "        #backward and optimize\n",
    "        optimizer.zero_grad()\n",
    "        loss.backward()\n",
    "        optimizer.step()\n",
    "        \n",
    "        if (i+1)%300 == 0:\n",
    "            print('Epoch:[{}/{}],step: [{}/{}],loss: {:.4f}'.format(epoch+1,num_epoch,i+1,total_step,loss.item()))\n",
    "            \n",
    "#test model            \n",
    "model.eval()            \n",
    "with torch.no_grad():\n",
    "    correct = 0\n",
    "    total = 0\n",
    "    for images,labels in test_loader:\n",
    "        images = images.to(device)\n",
    "        labels = labels.to(device)\n",
    "        outputs = model(images)\n",
    "        _, pred = torch.max(outputs.data, 1)\n",
    "        total += labels.size(0)\n",
    "        correct += (pred == labels).sum().item()\n",
    "        \n",
    "    print('The test accuracy of the model is {}  %'.format(100 * correct/total))"
   ]
  },
  {
   "cell_type": "markdown",
   "metadata": {},
   "source": [
    "pytorch中，池化层也是有kernel_size的，这个是指进行池化的窗口大小，而对于卷积和池化的输出特征图计算上，有很多需要注意的地方，这两个层对于输出特征的计算公式都是output_size = input_size - kernel_size + padding * 2 / stride +1,如果输入的大小是不一样的话，各自计算宽和高。\n",
    "需要注意的是：在特征图的计算中，如果不能整除，都是要向下取整的。"
   ]
  },
  {
   "cell_type": "code",
   "execution_count": 19,
   "metadata": {},
   "outputs": [],
   "source": [
    "torch.save(model.state_dict(),'Conv_model.ckpt')"
   ]
  }
 ],
 "metadata": {
  "kernelspec": {
   "display_name": "Python 3",
   "language": "python",
   "name": "python3"
  },
  "language_info": {
   "codemirror_mode": {
    "name": "ipython",
    "version": 3
   },
   "file_extension": ".py",
   "mimetype": "text/x-python",
   "name": "python",
   "nbconvert_exporter": "python",
   "pygments_lexer": "ipython3",
   "version": "3.7.3"
  }
 },
 "nbformat": 4,
 "nbformat_minor": 2
}
