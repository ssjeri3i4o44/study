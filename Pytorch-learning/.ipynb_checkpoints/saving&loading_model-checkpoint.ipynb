{
 "cells": [
  {
   "cell_type": "code",
   "execution_count": 5,
   "metadata": {},
   "outputs": [],
   "source": [
    "import torch\n",
    "import torchvision\n",
    "import torch.nn as nn"
   ]
  },
  {
   "cell_type": "code",
   "execution_count": 6,
   "metadata": {},
   "outputs": [
    {
     "name": "stdout",
     "output_type": "stream",
     "text": [
      "models state_dict:\n",
      "conv1.weight \t torch.Size([6, 3, 5, 5])\n",
      "conv1.bias \t torch.Size([6])\n",
      "conv2.weight \t torch.Size([16, 6, 5, 5])\n",
      "conv2.bias \t torch.Size([16])\n",
      "fc1.weight \t torch.Size([120, 400])\n",
      "fc1.bias \t torch.Size([120])\n",
      "fc2.weight \t torch.Size([84, 120])\n",
      "fc2.bias \t torch.Size([84])\n",
      "fc3.weight \t torch.Size([10, 84])\n",
      "fc3.bias \t torch.Size([10])\n",
      "optimizers state_dict:\n",
      "state \t {}\n",
      "param_groups \t [{'lr': 0.001, 'momentum': 0.9, 'dampening': 0, 'weight_decay': 0, 'nesterov': False, 'params': [2693178569784, 2693178569568, 2693178570072, 2693178570288, 2693178570360, 2693178570216, 2693178570144, 2693178570000, 2693178569928, 2693178569856]}]\n"
     ]
    }
   ],
   "source": [
    "class themodelclass(nn.Module):\n",
    "    def __init__(self):\n",
    "        super(themodelclass,self).__init__()\n",
    "        self.conv1 = torch.nn.Conv2d(3,6,5)\n",
    "        self.pool = torch.nn.MaxPool2d(2,2)\n",
    "        self.conv2 = torch.nn.Conv2d(6,16,5)\n",
    "        self.fc1 = torch.nn.Linear(16*5*5,120)\n",
    "        self.fc2 = torch.nn.Linear(120,84)\n",
    "        self.fc3 = torch.nn.Linear(84,10)\n",
    "        \n",
    "    def forward(self,x):\n",
    "        x = self.pool(torch.nn.ReLU(self.conv1(x)))\n",
    "        x = self.pool(torch.nn.ReLU(self.conv2(x)))\n",
    "        x = x.view(-1,16*5*5)\n",
    "        #view函数将多行拼成一行\n",
    "        x = torch.nn.ReLU(self.fc1(x))\n",
    "        x = torch.nn.ReLU(self.fc2(x))\n",
    "        x = self.fc3(x)\n",
    "        return x\n",
    "        \n",
    "#initialize model\n",
    "model = themodelclass()\n",
    "\n",
    "optimizer = torch.optim.SGD(model.parameters(),lr=0.001,momentum=0.9)\n",
    "print('models state_dict:')\n",
    "for param_tensor in model.state_dict():\n",
    "    print(param_tensor, '\\t', model.state_dict()[param_tensor].size())\n",
    "    \n",
    "#打印优化算法的参数\n",
    "print('optimizers state_dict:')\n",
    "for var_name in optimizer.state_dict():\n",
    "    print(var_name, '\\t',optimizer.state_dict()[var_name])\n",
    "        "
   ]
  },
  {
   "cell_type": "code",
   "execution_count": null,
   "metadata": {},
   "outputs": [],
   "source": [
    "#pytorch保存模型的方式主要有三种：\n",
    "#1：只保存模型的参数\n",
    "torch.save(the_model.state_dict(), PATH)\n",
    "\n",
    "#加载\n",
    "the_model = TheModelClass(*args, **kwargs)\n",
    "the_model.load_state_dict(torch.load(PATH))\n",
    "\n",
    "#2:保存加载整个模型\n",
    "torch.save(the_model, PATH)\n",
    "\n",
    "the_model = torch.load(PATH)\n",
    "#然而在这种情况下，序列化的数据被绑定到特定的类和固定的目录结构，\n",
    "#所以当在其他项目中使用时，或者在一些严重的重构器之后他可能会以各种方式break\n",
    "\n",
    "#3:在训练或继续训练中加载一个checkpoint\n",
    "#保存\n",
    "torch.save({\n",
    "            'epoch': epoch,\n",
    "            'model_state_dict': model.state_dict(),\n",
    "            'optimizer_state_dict': optimizer.state_dict(),\n",
    "            'loss': loss,\n",
    "            ...\n",
    "            }, PATH)\n",
    "\n",
    "#load\n",
    "model = TheModelClass(*args, **kwargs)\n",
    "optimizer = TheOptimizerClass(*args, **kwargs)\n",
    "\n",
    "checkpoint = torch.load(PATH)\n",
    "model.load_state_dict(checkpoint['model_state_dict'])\n",
    "optimizer.load_state_dict(checkpoint['optimizer_state_dict'])\n",
    "epoch = checkpoint['epoch']\n",
    "loss = checkpoint['loss']\n",
    "\n",
    "model.eval()\n",
    "# - or -\n",
    "model.train()"
   ]
  }
 ],
 "metadata": {
  "kernelspec": {
   "display_name": "Python 3",
   "language": "python",
   "name": "python3"
  },
  "language_info": {
   "codemirror_mode": {
    "name": "ipython",
    "version": 3
   },
   "file_extension": ".py",
   "mimetype": "text/x-python",
   "name": "python",
   "nbconvert_exporter": "python",
   "pygments_lexer": "ipython3",
   "version": "3.7.0"
  }
 },
 "nbformat": 4,
 "nbformat_minor": 2
}
