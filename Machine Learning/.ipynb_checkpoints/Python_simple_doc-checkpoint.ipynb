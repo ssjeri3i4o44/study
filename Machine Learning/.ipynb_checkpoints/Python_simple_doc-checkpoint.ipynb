{
 "cells": [
  {
   "cell_type": "markdown",
   "metadata": {},
   "source": [
    "### 引言\n",
    "一直使用Python作为工作进行实验和学习，但是总是觉得自己学的不好，所以对常用的知识进行简要的回顾，以便后面自己温习。\n",
    "<br>自己学习Python的来源有[廖雪峰Python网站](https://www.liaoxuefeng.com/wiki/0014316089557264a6b348958f449949df42a6d3a2e542c000)，还有Python的官方网站，以及作为一些碎片化的学习，个人觉得还是要系统的学习，可以先学习廖雪峰老师的教程。这个Markdown基本上按照廖老师的框架写的，添加了自己的一些补充和总结。"
   ]
  },
  {
   "cell_type": "markdown",
   "metadata": {},
   "source": [
    "### Python基础\n",
    "Python的数据类型包括有整型（int），浮点型（float），字符串型（string），布尔型（bool），空值（None）\n",
    "<br>Python具有动态变量和静态变量，静态变量是内置的固定数据，而动态变量可以赋值和操作，与C语言不通，Python中的变量不需要声明。Python中的动态变量要遵守命名规范，不然在大型开发的情况下，往往会造成很多麻烦。\n",
    "\n",
    "<br>Python常用的数据结构有list，tuple，dict，set四种：\n",
    "- list是一种有序的集合，可以随时添加和删除其中的元素。\n",
    "- tuple和list非常类似，但是tuple一旦初始化就不能修改。不可变的意义是为了代码更安全，PS：tuple中的数据不变知道是指针指向的位置不变(虽然Python没有指针，但是很多指针的意义)，如果tuple指向的数据类型是可变（list）,那么list是可变的\n",
    "- dict在其他语言中也称为map，使用键-值（key-value）存储，具有极快的查找速度。是使用哈希表的存储结构。\n",
    "- set和dict类似，也是一组key的集合，但不存储value。由于key不能重复，所以，在set中，没有重复的key。set可以看成数学意义上的无序和无重复元素的集合，因此，两个set可以做数学意义上的交集、并集等操作。\n",
    "\n",
    "<br>Python也具有其他语言通用的if, while, for等结构。"
   ]
  },
  {
   "cell_type": "markdown",
   "metadata": {},
   "source": [
    "### Python的函数\n",
    "\n",
    "通过定义函数，可以避免了重复性的代码工作，而且提高代码的可读性，主要总结函数中的参数：\n",
    "- 函数规定必要参数在前，默认参数在后\n",
    "- 空函数的作用可以作为一个占位符\n",
    "- 默认参数必须是不可变参数\n",
    "- 在Python中定义函数，可以用必选参数、默认参数、可变参数、关键字参数和命名关键字参数，这5种参数都可以组合使用。参数定义的顺序必须是：必选参数、默认参数、可变参数、命名关键字参数和关键字参数。"
   ]
  },
  {
   "cell_type": "code",
   "execution_count": null,
   "metadata": {},
   "outputs": [],
   "source": []
  }
 ],
 "metadata": {
  "hide_input": false,
  "kernelspec": {
   "display_name": "Python 3",
   "language": "python",
   "name": "python3"
  },
  "language_info": {
   "codemirror_mode": {
    "name": "ipython",
    "version": 3
   },
   "file_extension": ".py",
   "mimetype": "text/x-python",
   "name": "python",
   "nbconvert_exporter": "python",
   "pygments_lexer": "ipython3",
   "version": "3.7.0"
  }
 },
 "nbformat": 4,
 "nbformat_minor": 2
}
