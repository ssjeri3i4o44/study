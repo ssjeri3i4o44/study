{
 "cells": [
  {
   "cell_type": "code",
   "execution_count": 1,
   "metadata": {
    "ExecuteTime": {
     "end_time": "2018-12-26T02:42:12.156205Z",
     "start_time": "2018-12-26T02:42:11.840724Z"
    }
   },
   "outputs": [],
   "source": [
    "import numpy as np"
   ]
  },
  {
   "cell_type": "code",
   "execution_count": 2,
   "metadata": {
    "ExecuteTime": {
     "end_time": "2018-12-21T03:11:09.742748Z",
     "start_time": "2018-12-21T03:11:09.738749Z"
    }
   },
   "outputs": [],
   "source": [
    "a = np.arange(12).reshape(3,4)"
   ]
  },
  {
   "cell_type": "code",
   "execution_count": 3,
   "metadata": {
    "ExecuteTime": {
     "end_time": "2018-12-21T03:11:09.755736Z",
     "start_time": "2018-12-21T03:11:09.744732Z"
    }
   },
   "outputs": [
    {
     "data": {
      "text/plain": [
       "((3, 4), dtype('int32'), 12, 4, 2, <memory at 0x000001ED7FDE2708>)"
      ]
     },
     "execution_count": 3,
     "metadata": {},
     "output_type": "execute_result"
    }
   ],
   "source": [
    "a.shape,a.dtype,a.size,a.itemsize,a.ndim,a.data"
   ]
  },
  {
   "cell_type": "markdown",
   "metadata": {},
   "source": [
    "ndarray.itemsize: the size in bytes of each element of the array. For example, an array of elements of type float64 has itemsize 8 (=64/8), while one of type complex32 has itemsize 4 (=32/8). It is equivalent to ndarray.dtype.itemsize."
   ]
  },
  {
   "cell_type": "code",
   "execution_count": 4,
   "metadata": {
    "ExecuteTime": {
     "end_time": "2018-12-21T03:11:09.764678Z",
     "start_time": "2018-12-21T03:11:09.757700Z"
    }
   },
   "outputs": [
    {
     "data": {
      "text/plain": [
       "(array([1, 2, 3, 4, 5, 6]), array([[1, 2, 3],\n",
       "        [4, 5, 6]]), array([[1.+0.j, 2.+0.j],\n",
       "        [3.+0.j, 4.+0.j]]))"
      ]
     },
     "execution_count": 4,
     "metadata": {},
     "output_type": "execute_result"
    }
   ],
   "source": [
    "# create array\n",
    "a = np.array([1, 2, 3, 4, 5, 6])\n",
    "b = np.array([[1, 2, 3], [4, 5, 6]])\n",
    "c = np.array([[1, 2], [3, 4]], dtype=complex)\n",
    "a, b, c"
   ]
  },
  {
   "cell_type": "code",
   "execution_count": 5,
   "metadata": {
    "ExecuteTime": {
     "end_time": "2018-12-21T03:11:09.772658Z",
     "start_time": "2018-12-21T03:11:09.765676Z"
    }
   },
   "outputs": [
    {
     "data": {
      "text/plain": [
       "(array([[0., 0., 0., 0.],\n",
       "        [0., 0., 0., 0.],\n",
       "        [0., 0., 0., 0.]]), array([[1., 1., 1.],\n",
       "        [1., 1., 1.]]), array([[6.23042070e-307, 3.56043053e-307, 1.60219306e-306,\n",
       "         7.56571288e-307, 1.89146896e-307],\n",
       "        [1.37961302e-306, 1.05699242e-307, 8.01097889e-307,\n",
       "         1.78020169e-306, 7.56601165e-307],\n",
       "        [1.02359984e-306, 1.33510679e-306, 2.22522597e-306,\n",
       "         1.69119330e-306, 1.02360867e-306],\n",
       "        [1.60220528e-306, 1.78019082e-306, 9.34598925e-307,\n",
       "         7.56602523e-307, 1.69121096e-306]]), array([[0., 0., 0., 0., 0.],\n",
       "        [0., 0., 0., 0., 0.],\n",
       "        [0., 0., 0., 0., 0.],\n",
       "        [0., 0., 0., 0., 0.]]))"
      ]
     },
     "execution_count": 5,
     "metadata": {},
     "output_type": "execute_result"
    }
   ],
   "source": [
    "a = np.zeros((3, 4))\n",
    "b = np.ones((2, 3))\n",
    "c = np.empty((4, 5))\n",
    "d = np.zeros_like(c)\n",
    "a, b, c, d"
   ]
  },
  {
   "cell_type": "code",
   "execution_count": 6,
   "metadata": {
    "ExecuteTime": {
     "end_time": "2018-12-21T03:11:09.782632Z",
     "start_time": "2018-12-21T03:11:09.774652Z"
    }
   },
   "outputs": [
    {
     "data": {
      "text/plain": [
       "(array([0. , 0.5, 1. , 1.5]),\n",
       " array([0. , 0.5, 1. , 1.5, 2. ]),\n",
       " array([[ 0,  1,  2,  3],\n",
       "        [ 4,  5,  6,  7],\n",
       "        [ 8,  9, 10, 11]]))"
      ]
     },
     "execution_count": 6,
     "metadata": {},
     "output_type": "execute_result"
    }
   ],
   "source": [
    "# rcreate sequences\n",
    "a = np.arange(0, 2, 0.5)\n",
    "b = np.linspace(0, 2, 5)\n",
    "c = np.arange(12).reshape(3, 4)\n",
    "a, b, c"
   ]
  },
  {
   "cell_type": "code",
   "execution_count": 7,
   "metadata": {
    "ExecuteTime": {
     "end_time": "2018-12-21T03:11:09.789611Z",
     "start_time": "2018-12-21T03:11:09.785625Z"
    }
   },
   "outputs": [],
   "source": [
    "# np.set_printoptions(threshold=np.nan)\n",
    "# #当numpy数据过多无法完全显示时，使用这条函数限定打印出来的大小\n",
    "np.set_printoptions(threshold=10)"
   ]
  },
  {
   "cell_type": "code",
   "execution_count": 8,
   "metadata": {
    "ExecuteTime": {
     "end_time": "2018-12-21T03:11:09.798587Z",
     "start_time": "2018-12-21T03:11:09.791606Z"
    }
   },
   "outputs": [
    {
     "data": {
      "text/plain": [
       "(array([[0.29318721, 0.65866892],\n",
       "        [0.51826153, 0.19749455],\n",
       "        [0.19840152, 0.10965068],\n",
       "        [0.1052826 , 0.85628338]]),\n",
       " array([1.78473733, 0.16767122, 0.07145335, 1.32466683]),\n",
       " array([[ 3,  7, 10,  5],\n",
       "        [11,  8,  5,  6],\n",
       "        [ 2, 11,  3,  0]]),\n",
       " array([[0.4526732 , 0.030455  , 0.03947852, 0.81692369],\n",
       "        [0.91512298, 0.48444875, 0.75324191, 0.64990661],\n",
       "        [0.34567689, 0.5861805 , 0.54351921, 0.14699092]]))"
      ]
     },
     "execution_count": 8,
     "metadata": {},
     "output_type": "execute_result"
    }
   ],
   "source": [
    "# np.random\n",
    "a = np.random.rand(4, 2)\n",
    "'''\n",
    "rand函数根据给定维度生成[0,1)之间的数据，包含0，不包含1\n",
    "dn表格每个维度\n",
    "返回值为指定维度的array\n",
    "'''\n",
    "b = np.random.randn(4)\n",
    "'''\n",
    "randn函数返回一个或一组样本，具有标准正态分布。\n",
    "'''\n",
    "c = np.random.randint(0, 12, size=(3, 4), dtype=int)\n",
    "'''\n",
    "返回随机整数，范围区间为[low,high），包含low，不包含high\n",
    "参数：low为最小值，high为最大值，size为数组维度大小，dtype为数据类型，默认的数据类型是np.int\n",
    "high没有填写时，默认生成随机数的范围是[0，low)\n",
    "'''\n",
    "d = np.random.random(size=(3, 4))\n",
    "# 生成0,1之间的随机浮点数\n",
    "# np.random.seed(5)\n",
    "# 设置随机种子，当种子数相同时，得到的随机数固定\n",
    "a, b, c, d"
   ]
  },
  {
   "cell_type": "code",
   "execution_count": 9,
   "metadata": {
    "ExecuteTime": {
     "end_time": "2018-12-21T03:11:09.805570Z",
     "start_time": "2018-12-21T03:11:09.800582Z"
    }
   },
   "outputs": [
    {
     "data": {
      "text/plain": [
       "(1, array([1, 2]), array([11, 10,  9, ...,  2,  1,  0]))"
      ]
     },
     "execution_count": 9,
     "metadata": {},
     "output_type": "execute_result"
    }
   ],
   "source": [
    "# 索引和切片\n",
    "a = np.arange(12)\n",
    "# a[:6:2]=100\n",
    "# 在0到6之间，每隔两个就赋值为100\n",
    "a[1], a[1:3], a[::-1]"
   ]
  },
  {
   "cell_type": "code",
   "execution_count": 10,
   "metadata": {
    "ExecuteTime": {
     "end_time": "2018-12-21T03:11:09.814546Z",
     "start_time": "2018-12-21T03:11:09.807562Z"
    }
   },
   "outputs": [
    {
     "data": {
      "text/plain": [
       "array([[ 0,  0,  0,  0,  0],\n",
       "       [ 0,  1,  2,  3,  4],\n",
       "       [ 0,  2,  4,  6,  8],\n",
       "       [ 0,  3,  6,  9, 12]])"
      ]
     },
     "execution_count": 10,
     "metadata": {},
     "output_type": "execute_result"
    }
   ],
   "source": [
    "def f(x, y):\n",
    "    return x*y\n",
    "\n",
    "\n",
    "a = np.fromfunction(f, (4, 5), dtype=int)\n",
    "a"
   ]
  },
  {
   "cell_type": "code",
   "execution_count": 11,
   "metadata": {
    "ExecuteTime": {
     "end_time": "2018-12-21T03:11:09.823521Z",
     "start_time": "2018-12-21T03:11:09.817537Z"
    }
   },
   "outputs": [
    {
     "data": {
      "text/plain": [
       "(2, array([0, 1, 2, 3]), array([1, 2]), array([[1, 2],\n",
       "        [2, 4]]), array([ 0,  3,  6,  9, 12]))"
      ]
     },
     "execution_count": 11,
     "metadata": {},
     "output_type": "execute_result"
    }
   ],
   "source": [
    "a[1, 2], a[:, 1], a[1:3, 1], a[1:3, 1:3], a[-1]"
   ]
  },
  {
   "cell_type": "markdown",
   "metadata": {},
   "source": [
    "The dots (...) represent as many colons as needed to produce a complete indexing tuple. For example, if x is an array with 5 axes, then\n",
    "\n",
    "- x[1,2,...] is equivalent to x[1,2,:,:,:],\n",
    "- x[...,3] to x[:,:,:,:,3] and\n",
    "- x[4,...,5,:] to x[4,:,:,5,:]."
   ]
  },
  {
   "cell_type": "code",
   "execution_count": 12,
   "metadata": {
    "ExecuteTime": {
     "end_time": "2018-12-21T03:11:09.830502Z",
     "start_time": "2018-12-21T03:11:09.825514Z"
    }
   },
   "outputs": [
    {
     "data": {
      "text/plain": [
       "'\\nreshape的维度出现-1时，需要根据另外一个维度参数进行自适应\\n'"
      ]
     },
     "execution_count": 12,
     "metadata": {},
     "output_type": "execute_result"
    }
   ],
   "source": [
    "a = np.arange(12)\n",
    "a.resize((2, 6))\n",
    "a, a.reshape(3, 4)\n",
    "'''\n",
    "reshape的维度出现-1时，需要根据另外一个维度参数进行自适应\n",
    "'''"
   ]
  },
  {
   "cell_type": "code",
   "execution_count": 13,
   "metadata": {
    "ExecuteTime": {
     "end_time": "2018-12-21T03:11:09.837483Z",
     "start_time": "2018-12-21T03:11:09.831499Z"
    }
   },
   "outputs": [
    {
     "data": {
      "text/plain": [
       "(array([[2., 7., 8., ..., 5., 1., 8.],\n",
       "        [2., 7., 8., ..., 1., 5., 8.]]),\n",
       " array([[0.4526732 , 0.030455  , 0.03947852, 0.81692369],\n",
       "        [0.91512298, 0.48444875, 0.75324191, 0.64990661],\n",
       "        [0.34567689, 0.5861805 , 0.54351921, 0.14699092]]),\n",
       " [array([[2., 7., 8.],\n",
       "         [2., 7., 8.]]), array([[6.],\n",
       "         [8.]]), array([[5., 7., 5., ..., 5., 1., 8.],\n",
       "         [0., 7., 7., ..., 1., 5., 8.]])])"
      ]
     },
     "execution_count": 13,
     "metadata": {},
     "output_type": "execute_result"
    }
   ],
   "source": [
    "a = np.floor(10*np.random.random((2, 12)))\n",
    "b = np.hsplit(a, 3)   # Split a into 3\n",
    "c = np.hsplit(a, (3, 4))   # Split a after the third and the fourth column\n",
    "a, d, c"
   ]
  },
  {
   "cell_type": "code",
   "execution_count": 15,
   "metadata": {
    "ExecuteTime": {
     "end_time": "2018-12-26T02:51:56.937425Z",
     "start_time": "2018-12-26T02:51:56.929476Z"
    }
   },
   "outputs": [
    {
     "data": {
      "text/plain": [
       "(1956653373360,\n",
       " 1956653373360,\n",
       " array([1, 0, 3, 4, 5, 6]),\n",
       " array([1, 0, 3, 4, 5, 6]),\n",
       " True)"
      ]
     },
     "execution_count": 15,
     "metadata": {},
     "output_type": "execute_result"
    }
   ],
   "source": [
    "a = np.array((1, 2, 3, 4, 5, 6))\n",
    "b = a\n",
    "b[1] = 0\n",
    "id(a), id(b), a, b, b is a\n",
    "# 非复制，都指向与相同的数据对象"
   ]
  },
  {
   "cell_type": "code",
   "execution_count": 14,
   "metadata": {
    "ExecuteTime": {
     "end_time": "2018-12-26T02:51:39.084783Z",
     "start_time": "2018-12-26T02:51:39.079759Z"
    }
   },
   "outputs": [
    {
     "data": {
      "text/plain": [
       "(array([0, 2, 3, 4, 5, 6]), array([0, 2, 3, 4, 5, 6]), (6,), (6,), False)"
      ]
     },
     "execution_count": 14,
     "metadata": {},
     "output_type": "execute_result"
    }
   ],
   "source": [
    "a = np.array((1, 2, 3, 4, 5, 6))\n",
    "b = a.view()\n",
    "b[0] = 0\n",
    "b.reshape(2, 3)\n",
    "a, b, a.shape, b.shape, b is a\n",
    "# 对象b和a都可以对数据的数值进行修改，\n",
    "# 但是b不能对a.shape属性进行修改。"
   ]
  },
  {
   "cell_type": "code",
   "execution_count": 16,
   "metadata": {
    "ExecuteTime": {
     "end_time": "2018-12-26T02:52:31.120263Z",
     "start_time": "2018-12-26T02:52:31.113274Z"
    }
   },
   "outputs": [
    {
     "data": {
      "text/plain": [
       "(array([1, 2, 3, 4, 5, 6]), array([0, 2, 3, 4, 5, 6]), (6,), (6,), False)"
      ]
     },
     "execution_count": 16,
     "metadata": {},
     "output_type": "execute_result"
    }
   ],
   "source": [
    "a = np.array((1, 2, 3, 4, 5, 6))\n",
    "b = a.copy()\n",
    "b[0] = 0\n",
    "b.reshape(2, 3)\n",
    "a, b, a.shape, b.shape, b is a\n",
    "# 深复制，新建一个数据对象"
   ]
  },
  {
   "cell_type": "markdown",
   "metadata": {},
   "source": [
    "### Functions and Methods Overview\n",
    "\n",
    "Here is a list of some useful NumPy functions and methods names ordered in categories. See Routines for the full list.\n",
    "\n",
    "#### Array Creation\n",
    "arange, array, copy, empty, empty_like, eye, fromfile, fromfunction, identity, linspace, logspace, mgrid, ogrid, ones, ones_like, r, zeros, zeros_like\n",
    "#### Conversions\n",
    "ndarray.astype, atleast_1d, atleast_2d, atleast_3d, mat\n",
    "#### Manipulations\n",
    "array_split, column_stack, concatenate, diagonal, dsplit, dstack, hsplit, hstack, ndarray.item, newaxis, ravel, repeat, reshape, resize, squeeze, swapaxes, take, transpose, vsplit, vstack\n",
    "#### Questions\n",
    "all, any, nonzero, where\n",
    "#### Ordering\n",
    "argmax, argmin, argsort, max, min, ptp, searchsorted, sort\n",
    "#### Operations\n",
    "choose, compress, cumprod, cumsum, inner, ndarray.fill, imag, prod, put, putmask, real, sum\n",
    "#### Basic Statistics\n",
    "cov, mean, std, var\n",
    "#### Basic Linear Algebra\n",
    "cross, dot, outer, linalg.svd, vdot"
   ]
  },
  {
   "cell_type": "code",
   "execution_count": 19,
   "metadata": {
    "ExecuteTime": {
     "end_time": "2018-12-26T03:00:49.944112Z",
     "start_time": "2018-12-26T03:00:49.936134Z"
    }
   },
   "outputs": [
    {
     "data": {
      "text/plain": [
       "(array([ 1,  1,  9,  4, 25], dtype=int32), array([[ 1,  4],\n",
       "        [ 9, 16]], dtype=int32))"
      ]
     },
     "execution_count": 19,
     "metadata": {},
     "output_type": "execute_result"
    }
   ],
   "source": [
    "a = np.arange(6)**2\n",
    "i = np.array([1, 1, 3, 2, 5])\n",
    "j = np.array([[1, 2], [3, 4]])\n",
    "a[i], a[j]"
   ]
  },
  {
   "cell_type": "code",
   "execution_count": 20,
   "metadata": {
    "ExecuteTime": {
     "end_time": "2018-12-26T03:06:25.003456Z",
     "start_time": "2018-12-26T03:06:24.996442Z"
    }
   },
   "outputs": [
    {
     "data": {
      "text/plain": [
       "array([[[  0,   0,   0],\n",
       "        [255,   0,   0],\n",
       "        [  0, 255, 255],\n",
       "        [  0,   0,   0]],\n",
       "\n",
       "       [[  0,   0,   0],\n",
       "        [  0,   0, 255],\n",
       "        [255, 255, 255],\n",
       "        [  0,   0,   0]]])"
      ]
     },
     "execution_count": 20,
     "metadata": {},
     "output_type": "execute_result"
    }
   ],
   "source": [
    "img = np.array([\n",
    "    [0, 0, 0],\n",
    "    [255, 0, 0],\n",
    "    [0, 255, 255],\n",
    "    [0, 0, 255],\n",
    "    [255, 255, 255]\n",
    "])\n",
    "image = np.array([[0, 1, 2, 0],\n",
    "                  [0, 3, 4, 0]])\n",
    "img[image]"
   ]
  },
  {
   "cell_type": "code",
   "execution_count": 21,
   "metadata": {
    "ExecuteTime": {
     "end_time": "2018-12-26T05:13:05.237781Z",
     "start_time": "2018-12-26T05:13:05.231796Z"
    }
   },
   "outputs": [
    {
     "data": {
      "text/plain": [
       "(array([[ 2,  5],\n",
       "        [ 7, 11]]), array([[ 2,  6],\n",
       "        [ 6, 10]]), array([[[ 2,  1],\n",
       "         [ 3,  3]],\n",
       " \n",
       "        [[ 6,  5],\n",
       "         [ 7,  7]],\n",
       " \n",
       "        [[10,  9],\n",
       "         [11, 11]]]))"
      ]
     },
     "execution_count": 21,
     "metadata": {},
     "output_type": "execute_result"
    }
   ],
   "source": [
    "a = np.arange(12).reshape(3, 4)\n",
    "i = np.array([[0, 1],# indices for the first dim of a\n",
    "              [1, 2]])\n",
    "j = np.array([[2, 1], # indices for the second dim\n",
    "              [3, 3]])\n",
    "\n",
    "a[i, j],a[i, 2],a[:, j]# i and j must have equal shape\n",
    "# i.e., a[ : , j]"
   ]
  },
  {
   "cell_type": "code",
   "execution_count": 23,
   "metadata": {
    "ExecuteTime": {
     "end_time": "2018-12-26T05:30:10.265303Z",
     "start_time": "2018-12-26T05:30:10.260315Z"
    }
   },
   "outputs": [
    {
     "data": {
      "text/plain": [
       "(array([[ 0,  1,  2,  3],\n",
       "        [ 4,  5,  6,  7],\n",
       "        [ 8,  9, 10, 11]]), array([ 5,  6,  7,  8,  9, 10, 11]))"
      ]
     },
     "execution_count": 23,
     "metadata": {},
     "output_type": "execute_result"
    }
   ],
   "source": [
    "a = np.arange(12).reshape(3,4)\n",
    "b = a > 4\n",
    "a, a[b]"
   ]
  },
  {
   "cell_type": "code",
   "execution_count": 24,
   "metadata": {
    "ExecuteTime": {
     "end_time": "2018-12-26T05:31:15.277194Z",
     "start_time": "2018-12-26T05:31:15.271198Z"
    }
   },
   "outputs": [
    {
     "data": {
      "text/plain": [
       "(array([[ 4,  5,  6,  7],\n",
       "        [ 8,  9, 10, 11]]), array([[ 4,  5,  6,  7],\n",
       "        [ 8,  9, 10, 11]]), array([[ 0,  2],\n",
       "        [ 4,  6],\n",
       "        [ 8, 10]]), array([ 4, 10]))"
      ]
     },
     "execution_count": 24,
     "metadata": {},
     "output_type": "execute_result"
    }
   ],
   "source": [
    "a = np.arange(12).reshape(3,4)\n",
    "b1 = np.array([False,True,True])\n",
    "b2 = np.array([True,False,True,False])\n",
    "a[b1,:],a[b1],a[:,b2],a[b1,b2]"
   ]
  },
  {
   "cell_type": "code",
   "execution_count": 25,
   "metadata": {
    "ExecuteTime": {
     "end_time": "2018-12-26T05:35:18.494573Z",
     "start_time": "2018-12-26T05:35:18.489645Z"
    }
   },
   "outputs": [
    {
     "data": {
      "text/plain": [
       "(array([[0, 2, 4, 6, 8],\n",
       "        [0, 1, 2, 3, 4]]), array([0, 2, 4, 6, 8, 0, 1, 2, 3, 4]))"
      ]
     },
     "execution_count": 25,
     "metadata": {},
     "output_type": "execute_result"
    }
   ],
   "source": [
    "a = np.arange(0,10,2)\n",
    "b = np.arange(5)\n",
    "x = np.vstack([a,b])\n",
    "y = np.hstack([a,b])\n",
    "x,y"
   ]
  },
  {
   "cell_type": "code",
   "execution_count": null,
   "metadata": {},
   "outputs": [],
   "source": []
  }
 ],
 "metadata": {
  "hide_input": false,
  "kernelspec": {
   "display_name": "Python 3",
   "language": "python",
   "name": "python3"
  },
  "language_info": {
   "codemirror_mode": {
    "name": "ipython",
    "version": 3
   },
   "file_extension": ".py",
   "mimetype": "text/x-python",
   "name": "python",
   "nbconvert_exporter": "python",
   "pygments_lexer": "ipython3",
   "version": "3.7.0"
  }
 },
 "nbformat": 4,
 "nbformat_minor": 2
}
